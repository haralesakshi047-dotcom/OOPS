{
  "nbformat": 4,
  "nbformat_minor": 0,
  "metadata": {
    "colab": {
      "provenance": []
    },
    "kernelspec": {
      "name": "python3",
      "display_name": "Python 3"
    },
    "language_info": {
      "name": "python"
    }
  },
  "cells": [
    {
      "cell_type": "markdown",
      "source": [],
      "metadata": {
        "id": "mcIjwbtf8xDE"
      }
    },
    {
      "cell_type": "markdown",
      "source": [],
      "metadata": {
        "id": "L322yS0P8unP"
      }
    },
    {
      "cell_type": "code",
      "execution_count": null,
      "metadata": {
        "id": "WNLvvLNN8Nmv"
      },
      "outputs": [],
      "source": []
    },
    {
      "cell_type": "markdown",
      "source": [
        "#Python OOPs Questions"
      ],
      "metadata": {
        "id": "fHcSJqAc82kF"
      }
    },
    {
      "cell_type": "markdown",
      "source": [
        "1.What  is Object-Oriented Programming (OOP)?\n",
        "- object oriented programming is a programming paradigm based on the concept of objects, which represent real-world entities. It focuses on classes,objects,inheritance,polymorphism,abstractiopn,and encapsulation to make code reusable,modular,and easier to maintain."
      ],
      "metadata": {
        "id": "0z7Y1b6t86gE"
      }
    },
    {
      "cell_type": "markdown",
      "source": [
        "2.What is a class in OOP?\n",
        "- A class is a blueprint or templaate for creatoing objects. It defines attributes(variables) and methods(functions) that the object created fromit will have.\n",
        "\n",
        "ex:\n",
        "\n",
        "class Car:\n",
        "def__init__(self, brand):\n",
        "self.brand = brand\n",
        "def drive(self):\n",
        "print(f\"{self.brand} is driving\")"
      ],
      "metadata": {
        "id": "jRvF0hP-9tyR"
      }
    },
    {
      "cell_type": "markdown",
      "source": [
        "3.What is an object in OOP?\n",
        "- An object is an instance of a class.It represents a specific entity created from the class.\n",
        "\n",
        "eg:\n",
        "car1 = Car(\"BMW\") # object\n",
        "car1.drive()"
      ],
      "metadata": {
        "id": "ZRecxPM_-jc7"
      }
    },
    {
      "cell_type": "markdown",
      "source": [
        "4.Difference between Abstaction and Encapsulation?\n",
        "- .Abstraction-> Hiding implementation details and showing only essenntial features(foocus on what).\n",
        "\n",
        ".Encapsulation-> Binding data and methods together, restring direct access(focus oon how)."
      ],
      "metadata": {
        "id": "B-kfth6b_CA-"
      }
    },
    {
      "cell_type": "markdown",
      "source": [
        "5.What are dunder methods in Python?\n",
        "- Dunder(double underscore) methods are special methods that begin and end with__.They allow opeartor overloading and customization.\n",
        "\n",
        "ex:\n",
        "\n",
        ".__init__-> constructor\n",
        "\n",
        ".__str__->string representation\n",
        "\n",
        ".__len__ -> length"
      ],
      "metadata": {
        "id": "UjEXmZM5_hoC"
      }
    },
    {
      "cell_type": "markdown",
      "source": [
        "6.Explain inheritance in OOP.\n",
        "- Inheritance allows a class (child/derived) to acquire properties and behaviours of another class(parent/base).\n",
        "\n",
        "eg:\n",
        "\n",
        "class Animal:\n",
        "\n",
        "   def sound(self): print(\"Animal sound\")\n",
        "\n",
        "class Dog(Animal):\n",
        "\n",
        "def sound(self): print(\"Bark\")"
      ],
      "metadata": {
        "id": "3rENca50ARgo"
      }
    },
    {
      "cell_type": "markdown",
      "source": [
        "7.What is polymorphism  in OOP?\n",
        "- Polymorphism means same method name,different implementations.\n",
        "\n",
        "eg:\n",
        "\n",
        "for animal in [Dog(), Cat()]:\n",
        "\n",
        "animal.sound() # different outputs"
      ],
      "metadata": {
        "id": "bfj2pMO9BG_N"
      }
    },
    {
      "cell_type": "markdown",
      "source": [
        "8.How is encapsulation achieved in Python?\n",
        "- By using private/protected attributes (prefix_ or__)and getter/setter methods."
      ],
      "metadata": {
        "id": "GitDZ1J-Be6m"
      }
    },
    {
      "cell_type": "markdown",
      "source": [
        "9.What is a constructor in Python?\n",
        "- __init__() is the constructor method in Python.It initializes object attributes when an object is  created."
      ],
      "metadata": {
        "id": "QwEwONuKBzfb"
      }
    },
    {
      "cell_type": "markdown",
      "source": [
        "10.What are the class and static methods in Python?\n",
        "- Class method(@classmethod)-> Works with the cllass itself,takes cls as argument.\n",
        "\n",
        "Static method(@staticmethod)->Utility method,doent depend on class or innstance."
      ],
      "metadata": {
        "id": "4ekJvZZmCGps"
      }
    },
    {
      "cell_type": "markdown",
      "source": [
        "11.What is method overloading in Python?\n",
        "- Python doent support true overloading.Instead,we use deafult arguments or *args to sumulate it."
      ],
      "metadata": {
        "id": "fof_5yaiCiXR"
      }
    },
    {
      "cell_type": "markdown",
      "source": [
        "12.What is method overriding in OOP?\n",
        "- When a child  class defines a method with the same name as the parent class,it overrides the parents version.\n",
        "\n"
      ],
      "metadata": {
        "id": "dXTVG0tgC7Ey"
      }
    },
    {
      "cell_type": "markdown",
      "source": [
        "13. What is a property decorator in Python?\n",
        "- property is used to make a method behave like an attribute(getter/setter)\n",
        "\n",
        "eg:\n",
        "\n",
        "class Person:\n",
        "def__init__(self,age): self._age=\n",
        "age\n",
        "\n",
        "@property\n",
        "def age(self): return self._age"
      ],
      "metadata": {
        "id": "K8NmyDozBDhL"
      }
    },
    {
      "cell_type": "markdown",
      "source": [
        "14.Why is polymnorphism important in OOP?\n",
        "- It increases flexibility and reusability ,allowing different classes to use the same interface."
      ],
      "metadata": {
        "id": "5CTjn3gIByob"
      }
    },
    {
      "cell_type": "markdown",
      "source": [
        "15.What is an abstact class in Python?\n",
        "-  An abstact class contains one or more abstact methods(declared but not implemented). Declared using abc module."
      ],
      "metadata": {
        "id": "Gcm9kGEVEDKi"
      }
    },
    {
      "cell_type": "markdown",
      "source": [
        "16.What are the advantages of OOP?\n",
        "- .Code reusability(inheritance)\n",
        "\n",
        "  .Flexibility(polymorphism)\n",
        "\n",
        "  .Data security(encapsulation)\n",
        "\n",
        "  .Real-world modeling"
      ],
      "metadata": {
        "id": "ePtJPlC2EWFg"
      }
    },
    {
      "cell_type": "markdown",
      "source": [
        "17.Difference between class variable and instance variable?\n",
        "- .Class variable-> Shared across all objects.\n",
        "\n",
        "  .Instance variable->Unique to each object.\n",
        "  "
      ],
      "metadata": {
        "id": "aVbIaWQ2E4L3"
      }
    },
    {
      "cell_type": "markdown",
      "source": [
        "18.What is multiple inheritance in Python?\n",
        "- A class can inherit from multiple parent classes.\n",
        "\n",
        "  eg:\n",
        "\n",
        "  class A: pass\n",
        "  class B: pass\n",
        "  class C(A,B): pass\n",
        "  "
      ],
      "metadata": {
        "id": "ag2j03_SFN7I"
      }
    },
    {
      "cell_type": "markdown",
      "source": [
        "19.Explain the purpose of \"str_and_repr_\" methods in Python\n",
        "- .__str__()-> User-friendly string representation(print()).\n",
        "\n",
        "  .__repr__()->Official/debug representation (used by interpreter)."
      ],
      "metadata": {
        "id": "bzVIH8FhFqEG"
      }
    },
    {
      "cell_type": "markdown",
      "source": [
        "20.What is the significance of 'super() function in Python?\n",
        "- super() is used to call a parent class's method (commonly constructor).\n"
      ],
      "metadata": {
        "id": "u7-ov0CuLMWP"
      }
    },
    {
      "cell_type": "markdown",
      "source": [
        "21.What is the significance of the_del method in Python?\n",
        "- It's a destructor method. Called automatically when an object is deleted or garbage-collected.\n"
      ],
      "metadata": {
        "id": "UaU9L1SyLnNE"
      }
    },
    {
      "cell_type": "markdown",
      "source": [
        "22.What is the difference between@staticmethod and@classmethod in Python?\n",
        "- .@staticmethod-> No self,no cls,just utility.\n",
        "  .@classmethod-> Takes cls as parameter,can modify class-level data."
      ],
      "metadata": {
        "id": "GTbC3Oc0MPxj"
      }
    },
    {
      "cell_type": "markdown",
      "source": [
        "23.How does polymorphism work in Python with inheritance?\n",
        "- If both parent and child have the same method,the childs version ovverrides the parents."
      ],
      "metadata": {
        "id": "wnij3ompM0Kh"
      }
    },
    {
      "cell_type": "markdown",
      "source": [
        "24.What is method chahing in Python OOP?\n",
        "- Calling multiple methods in a single line because each method returns self.\n",
        "\n",
        "eg:\n",
        "\n",
        "class Example:\n",
        "def step1(stlf): print(\"Step1\");\n",
        "return self\n",
        "\n",
        "def step2(self): print(\"Step2\");\n",
        "return self\n",
        "\n",
        "obj = Example().step1().step2()"
      ],
      "metadata": {
        "id": "c4FHGH6qNGyv"
      }
    },
    {
      "cell_type": "markdown",
      "source": [
        "25.What is the purpose of the__call__method in Python?\n",
        "- The __call__() method in python allows an object to be called like a function.\n",
        "if a class defines__call_-() then its objects can be invoked using parantheses () - just like functions."
      ],
      "metadata": {
        "id": "Geu7lfO7N4w8"
      }
    },
    {
      "cell_type": "markdown",
      "source": [
        "# Practical Questions"
      ],
      "metadata": {
        "id": "CVGBJeKYOOQb"
      }
    },
    {
      "cell_type": "markdown",
      "source": [
        "1.Create a parent class Animal with a method speak() that prints a generic message.Create a child class Dog that overrides the speak() method to print \"Bark!\"."
      ],
      "metadata": {
        "id": "xRFDr6rqOSoa"
      }
    },
    {
      "cell_type": "code",
      "source": [
        "class Animal:\n",
        "  def speak(self):\n",
        "    print(\"This animal makes a sound\")\n",
        "\n",
        "    class Dog(Animal):\n",
        "      def speak(self):\n",
        "        print(\"Bark!\")\n",
        "        a= Animal()\n",
        "        a.speak() # Output: This animal makes a sound\n",
        "        d= Dog()\n",
        "        d.speak() #Output: Bark!"
      ],
      "metadata": {
        "id": "adkEVIVrTdWG"
      },
      "execution_count": 1,
      "outputs": []
    },
    {
      "cell_type": "markdown",
      "source": [
        "2.Write a program to create an abstact class Shape with a method area().Derive classes Circle and Rectangle from it and implement the area() method in both."
      ],
      "metadata": {
        "id": "78_305W2UmSK"
      }
    },
    {
      "cell_type": "code",
      "source": [
        "from pathlib import WindowsPath\n",
        "from abc import ABC, abstractmethod\n",
        "import math\n",
        "\n",
        "class Shape(ABC):\n",
        "  @abstractmethod\n",
        "  def area(self):\n",
        "    pass\n",
        "\n",
        "class Circle(Shape):\n",
        "  def __init__(self, radius):\n",
        "    self.radius = radius\n",
        "\n",
        "  def area(self):\n",
        "    return math.pi * self.radius**2\n",
        "\n",
        "class Rectangle(Shape):\n",
        "  def __init__(self,length,width):\n",
        "    self.length=length\n",
        "    self.width=width\n",
        "\n",
        "  def area(self):\n",
        "    return self.length * self.width\n",
        "\n",
        "circle = Circle(5)\n",
        "rectangle =Rectangle(4,6)\n",
        "print(\"Circle Area:\",circle.area())\n",
        "print(\"Rectangle Area:\",rectangle.area())"
      ],
      "metadata": {
        "colab": {
          "base_uri": "https://localhost:8080/"
        },
        "id": "i1R4Ya_4VFfi",
        "outputId": "f97f57e3-11fe-499a-8eb4-4990a42d9957"
      },
      "execution_count": 6,
      "outputs": [
        {
          "output_type": "stream",
          "name": "stdout",
          "text": [
            "Circle Area: 78.53981633974483\n",
            "Rectangle Area: 24\n"
          ]
        }
      ]
    },
    {
      "cell_type": "markdown",
      "source": [
        "3.Implement a multi-level inheritance scenario where a class Vehicle has an attri utetype. Derive a class car and further derive a class ElectricCar that adds a battery attribute."
      ],
      "metadata": {
        "id": "_DVMNc354Utg"
      }
    },
    {
      "cell_type": "code",
      "source": [
        "class Vehicle:\n",
        "  def __init__(self,type):\n",
        "    self.type=type\n",
        "\n",
        "class Car(Vehicle):\n",
        "  def __init__(self, type, brand):\n",
        "    super().__init__(type) # corrected typo here\n",
        "    self.brand = brand\n",
        "\n",
        "class ElectricCar(Car):\n",
        "  def __init__(self, type, brand, battery):\n",
        "    super().__init__(type, brand)\n",
        "    self.battery=battery\n",
        "\n",
        "ecar = ElectricCar(\"Car\", \"Tesla\", \"100kWh\")\n",
        "print(ecar.type, ecar.brand, ecar.battery)"
      ],
      "metadata": {
        "colab": {
          "base_uri": "https://localhost:8080/"
        },
        "id": "m_00Ggez5fv2",
        "outputId": "0b2ff7e4-4ded-4f94-badd-019fdaebf719"
      },
      "execution_count": 15,
      "outputs": [
        {
          "output_type": "stream",
          "name": "stdout",
          "text": [
            "Car Tesla 100kWh\n"
          ]
        }
      ]
    },
    {
      "cell_type": "markdown",
      "source": [
        "4.Demonstrate polymorphism by creating a base class Bird with a method fly().Create two derived classes sparrow and penguin that ovveride the fly()method."
      ],
      "metadata": {
        "id": "3KaxbHJZ7TNS"
      }
    },
    {
      "cell_type": "code",
      "source": [
        "class Bird:\n",
        "  def fly(self):\n",
        "    print(\"Bird is flying\")\n",
        "    class Sparrow(Bird):\n",
        "      def fly(self):\n",
        "        print(\"Sparrow is flying\")\n",
        "        class Penguin(Bird):\n",
        "          def fly(self):\n",
        "            print(\"Penguin is not flying\")\n",
        "            for bird in [Sparrow(), Penguin()]:\n",
        "              bird.fly()"
      ],
      "metadata": {
        "id": "9_852aMl7oJ6"
      },
      "execution_count": 12,
      "outputs": []
    },
    {
      "cell_type": "markdown",
      "source": [
        "5.Write a program to demonstate encapsulation by creating a class BankAccount with private attributes balance amnd methods to deposit,withdraw,and check balance."
      ],
      "metadata": {
        "id": "B6YepxmE8jXb"
      }
    },
    {
      "cell_type": "code",
      "source": [
        "class BankAccount:\n",
        "  def __init__(self,balance):\n",
        "    self.__balance = balance # private attribute\n",
        "  def deposit(self, amount):\n",
        "    self.__balance += amount\n",
        "  def withdraw(self, amount):\n",
        "    if amount <= self.__balance:\n",
        "      self.__balance -= amount\n",
        "    else:\n",
        "      print(\"Insufficient balance\")\n",
        "  def check_balance(self):\n",
        "    return self.__balance\n",
        "    account = BankAccount(1000)\n",
        "    account.deposit(500)\n",
        "    account.withdraw(200)\n",
        "    print(account.check_balance())"
      ],
      "metadata": {
        "id": "wY5K_QtX89fi"
      },
      "execution_count": 16,
      "outputs": []
    },
    {
      "cell_type": "markdown",
      "source": [
        "6.Demonstrate runtime polymorphism using a method play() in a base class Inatrument. Derive classes Guitar and Piano that implement their own version of play()."
      ],
      "metadata": {
        "id": "9tQkTn1x-deq"
      }
    },
    {
      "cell_type": "code",
      "source": [
        "class Instrument:\n",
        "  def play(self):\n",
        "    print(\"Instrument is palying\")\n",
        "    class Guitar(Instrument):\n",
        "      def play(self):\n",
        "        print(\"Guitar is playing\")\n",
        "        class Piano(Instrument):\n",
        "          def play(self):\n",
        "            print(\"Piano is playing\")\n",
        "            for instrument in [Guitar(), Piano()]:\n",
        "              instrument.play()"
      ],
      "metadata": {
        "id": "6mLaLd4q-zwA"
      },
      "execution_count": 17,
      "outputs": []
    },
    {
      "cell_type": "code",
      "source": [],
      "metadata": {
        "id": "qJ4K-9MnhxU1"
      },
      "execution_count": null,
      "outputs": []
    },
    {
      "cell_type": "markdown",
      "source": [],
      "metadata": {
        "id": "2a6T0Osbh0uQ"
      }
    },
    {
      "cell_type": "markdown",
      "source": [
        "7.Create a class MathOperations with a class method add_numbers() to add two numbers and a static method subtract_numbers() to subtract twonumbers."
      ],
      "metadata": {
        "id": "jORSxCCQAL5V"
      }
    },
    {
      "cell_type": "code",
      "source": [
        "class MathOperations:\n",
        "    @staticmethod\n",
        "    def add_numbers(a, b):\n",
        "        return a + b\n",
        "\n",
        "    @staticmethod\n",
        "    def subtract_numbers(a, b):\n",
        "        return a - b\n",
        "\n",
        "print(MathOperations.add_numbers(5, 3))\n",
        "print(MathOperations.subtract_numbers(10, 4))"
      ],
      "metadata": {
        "colab": {
          "base_uri": "https://localhost:8080/"
        },
        "id": "1Vkg_vahANcf",
        "outputId": "726a74c7-b430-4a93-a2cb-98fcd173cc50"
      },
      "execution_count": 1,
      "outputs": [
        {
          "output_type": "stream",
          "name": "stdout",
          "text": [
            "8\n",
            "6\n"
          ]
        }
      ]
    },
    {
      "cell_type": "markdown",
      "source": [
        "8.Implement a class Person with a class method to count the total number of persons created."
      ],
      "metadata": {
        "id": "EkV_CEwYXOi7"
      }
    },
    {
      "cell_type": "code",
      "source": [
        "class Person:\n",
        "  count = 0\n",
        "  def __init__(self, name):\n",
        "    self.name = name\n",
        "    Person.count += 1\n",
        "\n",
        "p1 = Person(\"Alice\")\n",
        "p2 = Person(\"Bob\")\n",
        "print(\"Total Persons:\", Person.count)"
      ],
      "metadata": {
        "colab": {
          "base_uri": "https://localhost:8080/"
        },
        "id": "CDHckQekXS83",
        "outputId": "b319458f-f25d-4d9f-ff56-76eb95006614"
      },
      "execution_count": 3,
      "outputs": [
        {
          "output_type": "stream",
          "name": "stdout",
          "text": [
            "Total Persons: 2\n"
          ]
        }
      ]
    },
    {
      "cell_type": "markdown",
      "source": [
        "9.Write a clas fraction with attributes numerator and denominator. Ovverride the str method to display the fraction as \"numerator/denominator\"."
      ],
      "metadata": {
        "id": "JVGU4W8MX6TW"
      }
    },
    {
      "cell_type": "code",
      "source": [
        "class Fraction:\n",
        "  def __init__(self, numerator, denominator):\n",
        "    self.numerator = numerator\n",
        "    self.denominator = denominator\n",
        "    def __str__(self):\n",
        "      return f\"{self.numerator}/{self.denominator}\"\n",
        "      f = Fraction(3, 4)\n",
        "      print(f)"
      ],
      "metadata": {
        "id": "1vIdcs6_X7Yt"
      },
      "execution_count": 4,
      "outputs": []
    },
    {
      "cell_type": "code",
      "source": [],
      "metadata": {
        "id": "I4mbuO3b1PUn"
      },
      "execution_count": null,
      "outputs": []
    },
    {
      "cell_type": "markdown",
      "source": [
        "10.Demostarte operator overloadingby ctreating a class vector and overrriding the add ,method to add two vectors."
      ],
      "metadata": {
        "id": "9Gf8dtXcYfJf"
      }
    },
    {
      "cell_type": "code",
      "source": [
        "class Vector:\n",
        "  def __init__(self, x, y):\n",
        "    self.x = x\n",
        "    self.y = y\n",
        "    def __add__(self, other):\n",
        "      return Vector(self.x + other.x, self.y + other.y)\n",
        "      def __str__(self):\n",
        "        return f\"({self.x}, {self.y})\"\n",
        "        v1 = Vector(2,3)\n",
        "        v2 = Vector(4,5)\n",
        "        v3 = v1 + v2\n",
        "        print(v3)"
      ],
      "metadata": {
        "id": "N12E3q29Ygz6"
      },
      "execution_count": 5,
      "outputs": []
    },
    {
      "cell_type": "markdown",
      "source": [
        "11.Create a class person with attributes name and age. Add a method greet() that prints \"Hello,my name is {name} and i am {age} years old."
      ],
      "metadata": {
        "id": "GZ8vLXnRZaEf"
      }
    },
    {
      "cell_type": "code",
      "source": [
        "class Person:\n",
        "  def __init__(self, name, age):\n",
        "    self.name = name\n",
        "    self.age = age\n",
        "  def greet(self):\n",
        "    print(f\"Hello, my name is {self.name} and I am {self.age} years old.\")\n",
        "\n",
        "p = Person(\"Alice\", 25)\n",
        "p.greet()"
      ],
      "metadata": {
        "colab": {
          "base_uri": "https://localhost:8080/"
        },
        "id": "iUBq-Y8UZb3k",
        "outputId": "b5314be0-7f7e-4e4a-b08d-e1bb82dd9351"
      },
      "execution_count": 8,
      "outputs": [
        {
          "output_type": "stream",
          "name": "stdout",
          "text": [
            "Hello, my name is Alice and I am 25 years old.\n"
          ]
        }
      ]
    },
    {
      "cell_type": "markdown",
      "source": [
        "12.Implement a class stuudent with attributes name and grades. Create a method average_grade()to compurte the average of the grades."
      ],
      "metadata": {
        "id": "zdm62TsmaG_j"
      }
    },
    {
      "cell_type": "code",
      "source": [
        "class Student:\n",
        "  def __init__(self, name, grades):\n",
        "    self.name = name\n",
        "    self.grades = grades\n",
        "  def average_grade(self):\n",
        "    return sum(self.grades) / len(self.grades)\n",
        "\n",
        "s = Student(\"Bob\", [80, 90, 85])\n",
        "print(s.name, \"Average Grade:\",\n",
        "          s.average_grade())"
      ],
      "metadata": {
        "colab": {
          "base_uri": "https://localhost:8080/"
        },
        "id": "fgHM4-XnaJq6",
        "outputId": "d3c24ffc-6826-4c8e-9de5-044e674b25f0"
      },
      "execution_count": 10,
      "outputs": [
        {
          "output_type": "stream",
          "name": "stdout",
          "text": [
            "Bob Average Grade: 85.0\n"
          ]
        }
      ]
    },
    {
      "cell_type": "markdown",
      "source": [
        "13.Create a class Rectangle with methods set_ dimension() to set the dimension and area() to calculate area."
      ],
      "metadata": {
        "id": "SoE2FTTsa7db"
      }
    },
    {
      "cell_type": "code",
      "source": [
        "class Rectangle:\n",
        "  def __init__(self):\n",
        "    self.length = 0\n",
        "    self.width = 0\n",
        "  def set_dimensions(self, length, width):\n",
        "    self.length = length\n",
        "    self.width = width\n",
        "  def area(self):\n",
        "    return self.length * self.width\n",
        "\n",
        "r = Rectangle()\n",
        "r.set_dimensions(5, 3)\n",
        "print(\"Area of Rectangle:\", r.area())"
      ],
      "metadata": {
        "colab": {
          "base_uri": "https://localhost:8080/"
        },
        "id": "Vi3sF4tUa9fE",
        "outputId": "7c845c22-0445-40a8-cf00-84eb9cddca12"
      },
      "execution_count": 2,
      "outputs": [
        {
          "output_type": "stream",
          "name": "stdout",
          "text": [
            "Area of Rectangle: 15\n"
          ]
        }
      ]
    },
    {
      "cell_type": "markdown",
      "source": [
        "14.Create a class employe with a method calculate salary() that computes the salary based on hours worked and hourly late. create a derive class manager that that adds bonus to salary."
      ],
      "metadata": {
        "id": "J9ATw2IhZKlm"
      }
    },
    {
      "cell_type": "code",
      "source": [
        "class Employee:\n",
        "  def __init__(self, hours_worked, hourly_rate):\n",
        "    self.hours_worked = hours_worked\n",
        "    self.hourly_rate = hourly_rate\n",
        "\n",
        "  def calculate_salary(self):\n",
        "    return self.hours_worked * self.hourly_rate\n",
        "\n",
        "class Manager(Employee):\n",
        "  def __init__(self, hours_worked, hourly_rate, bonus):\n",
        "    super().__init__(hours_worked, hourly_rate)\n",
        "    self.bonus = bonus\n",
        "\n",
        "  def calculate_salary(self):\n",
        "    base_salary = super().calculate_salary()\n",
        "    return base_salary + self.bonus\n",
        "\n",
        "emp = Employee(40, 200)\n",
        "ngr = Manager(40, 200, 5000)\n",
        "\n",
        "print(\"Employee Salary:\", emp.calculate_salary())\n",
        "print(\"Manager Salary:\", ngr.calculate_salary())"
      ],
      "metadata": {
        "colab": {
          "base_uri": "https://localhost:8080/"
        },
        "id": "WP7zYnDUZMUG",
        "outputId": "21e83ef6-4ff7-4a4e-a90c-cb8ea9bbd598"
      },
      "execution_count": 4,
      "outputs": [
        {
          "output_type": "stream",
          "name": "stdout",
          "text": [
            "Employee Salary: 8000\n",
            "Manager Salary: 13000\n"
          ]
        }
      ]
    },
    {
      "cell_type": "markdown",
      "source": [
        "15.Create a class product witrh attributres name, price abnd quantity.Implement a method total_price () that calculates the total price of the product."
      ],
      "metadata": {
        "id": "_1DcAcXLbqUR"
      }
    },
    {
      "cell_type": "code",
      "source": [
        "class Product:\n",
        "  def __init__(self, name, price, quantity):\n",
        "    self.name = name\n",
        "    self.price = price\n",
        "    self.quantity = quantity\n",
        "    def total_price(self):\n",
        "      return self.price * self.quantity\n",
        "      p = Product(\"Laptop\", 50000, 2)\n",
        "      print(\"Total Price of\", p.name, \":\",\n",
        "            p.total_price())"
      ],
      "metadata": {
        "id": "Emv_6keFbrUl"
      },
      "execution_count": 5,
      "outputs": []
    },
    {
      "cell_type": "markdown",
      "source": [
        "16.Create a class Animal with an abstact method sound().Create two derived classes Cow and Sheep that implement the sound() method."
      ],
      "metadata": {
        "id": "23BGAwXtcgoY"
      }
    },
    {
      "cell_type": "code",
      "source": [
        "from abc import ABC, abstractmethod\n",
        "\n",
        "class Animal(ABC):\n",
        "  @abstractmethod\n",
        "  def sound(self):\n",
        "    pass\n",
        "\n",
        "class Cow(Animal):\n",
        "  def sound(self):\n",
        "    print(\"Moo!\")\n",
        "\n",
        "class Sheep(Animal):\n",
        "  def sound(self):\n",
        "    print(\"Baa!\")\n",
        "\n",
        "c = Cow()\n",
        "s = Sheep()\n",
        "c.sound()\n",
        "s.sound()"
      ],
      "metadata": {
        "colab": {
          "base_uri": "https://localhost:8080/"
        },
        "id": "KfSVf27Nch80",
        "outputId": "d4e3e5ef-d809-4973-a748-676f6ea5cb08"
      },
      "execution_count": 7,
      "outputs": [
        {
          "output_type": "stream",
          "name": "stdout",
          "text": [
            "Moo!\n",
            "Baa!\n"
          ]
        }
      ]
    },
    {
      "cell_type": "markdown",
      "source": [
        "17.Create a class box with attributes title ,author and year_publishes.Add a method get_book_info() that returns aformatted string with the books details."
      ],
      "metadata": {
        "id": "9eask_NpdtsN"
      }
    },
    {
      "cell_type": "code",
      "source": [
        "class Book:\n",
        "  def __init__(self, title, author, year_published):\n",
        "    self.title = title\n",
        "    self.author = author\n",
        "    self.year_published = year_published\n",
        "    def get_book_info(self):\n",
        "      return f\" '{self.title}' by {self.author}, published in {self.year_published}\"\n",
        "      b = Book(\"Python Basics\", \"John Doe\", 2022)\n",
        "      print(b.get_book_info())\n"
      ],
      "metadata": {
        "id": "T1CjBlk4dvfU"
      },
      "execution_count": 9,
      "outputs": []
    },
    {
      "cell_type": "markdown",
      "source": [
        "18.Create a class House with attributes address and pprice. Create a derived class Mansion that adds an attribute number_of_rooms."
      ],
      "metadata": {
        "id": "MmQtc_x3f_ha"
      }
    },
    {
      "cell_type": "code",
      "source": [
        "class House:\n",
        "  def __init__(self, address, price):\n",
        "    self.address = address\n",
        "    self.price = price\n",
        "\n",
        "class Mansion(House):\n",
        "  def __init__(self, address, price, number_of_rooms):\n",
        "    super().__init__(address, price)\n",
        "    self.number_of_rooms = number_of_rooms\n",
        "\n",
        "  def display_info(self):\n",
        "    print(f\"Address: {self.address}\")\n",
        "    print(f\"Price: {self.price}\")\n",
        "    print(f\"Number of Rooms: {self.number_of_rooms}\")\n",
        "\n",
        "m = Mansion(\"Mumbai, India\", 15000000, 10)\n",
        "m.display_info()"
      ],
      "metadata": {
        "colab": {
          "base_uri": "https://localhost:8080/"
        },
        "id": "jNyL4c2MgBgK",
        "outputId": "cecfe7a2-f990-498f-8512-519a88d6e60a"
      },
      "execution_count": 11,
      "outputs": [
        {
          "output_type": "stream",
          "name": "stdout",
          "text": [
            "Address: Mumbai, India\n",
            "Price: 15000000\n",
            "Number of Rooms: 10\n"
          ]
        }
      ]
    },
    {
      "cell_type": "markdown",
      "source": [],
      "metadata": {
        "id": "Trjv9lYYbpD0"
      }
    },
    {
      "cell_type": "markdown",
      "source": [],
      "metadata": {
        "id": "_UlPgVwwExcU"
      }
    },
    {
      "cell_type": "markdown",
      "source": [],
      "metadata": {
        "id": "D5S2AksTBCjz"
      }
    },
    {
      "cell_type": "markdown",
      "source": [],
      "metadata": {
        "id": "MrBGnzBxA1QZ"
      }
    },
    {
      "cell_type": "markdown",
      "source": [],
      "metadata": {
        "id": "2Pd9_rx8AOb-"
      }
    },
    {
      "cell_type": "markdown",
      "source": [],
      "metadata": {
        "id": "xKsPTRMt8tnE"
      }
    }
  ]
}